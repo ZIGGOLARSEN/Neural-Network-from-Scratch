{
 "cells": [
  {
   "cell_type": "code",
   "execution_count": 1,
   "metadata": {},
   "outputs": [],
   "source": [
    "import time\n",
    "\n",
    "import matplotlib.pyplot as plt\n",
    "import pandas as pd\n",
    "import tensorflow as tf\n",
    "from sklearn.preprocessing import StandardScaler\n",
    "\n",
    "from activation_functions import *\n",
    "from Layer import *\n",
    "from loss_functions import *\n",
    "from NeuralNetwork import NeuralNetwork"
   ]
  },
  {
   "cell_type": "code",
   "execution_count": 2,
   "metadata": {},
   "outputs": [],
   "source": [
    "def reshape(arr):\n",
    "    return arr.reshape(arr.shape[0], -1)\n",
    "\n",
    "scaler = StandardScaler()"
   ]
  },
  {
   "cell_type": "code",
   "execution_count": 3,
   "metadata": {},
   "outputs": [],
   "source": [
    "mnist = tf.keras.datasets.mnist\n",
    "(mnist_train_data, mnist_train_labels), (mnist_test_data, mnist_test_labels) = mnist.load_data()\n",
    "\n",
    "mnist_train_data, mnist_test_data = reshape(mnist_train_data).T, reshape(mnist_test_data).T\n",
    "\n",
    "mnist_train_labels = pd.get_dummies(mnist_train_labels).to_numpy().T\n",
    "mnist_test_labels = pd.get_dummies(mnist_test_labels).to_numpy().T\n",
    "\n",
    "mnist_train_data, mnist_test_data = scaler.fit_transform(mnist_train_data), scaler.fit_transform(mnist_test_data)"
   ]
  },
  {
   "cell_type": "code",
   "execution_count": 4,
   "metadata": {},
   "outputs": [],
   "source": [
    "fashion_mnist = tf.keras.datasets.fashion_mnist\n",
    "(fashion_mnist_train_data, fashion_mnist_train_labels), (fashion_mnist_test_data, fashion_mnist_test_labels) = fashion_mnist.load_data()\n",
    "\n",
    "class_names = [\"T-shirt/top\", \"Trouser\", \"Pullover\", \"Dress\", \"Coat\", \"Sandal\", \"Shirt\", \"Sneaker\", \"Bag\", \"Ankle boot\"]\n",
    "\n",
    "fashion_mnist_train_data, fashion_mnist_test_data = reshape(fashion_mnist_train_data).T, reshape(fashion_mnist_test_data).T\n",
    "\n",
    "fashion_mnist_train_labels = pd.get_dummies(fashion_mnist_train_labels).to_numpy().T\n",
    "fashion_mnist_test_labels = pd.get_dummies(fashion_mnist_test_labels).to_numpy().T\n",
    "\n",
    "fashion_mnist_train_data, fashion_mnist_test_data = scaler.fit_transform(fashion_mnist_train_data), scaler.fit_transform(fashion_mnist_test_data)"
   ]
  },
  {
   "cell_type": "code",
   "execution_count": 8,
   "metadata": {},
   "outputs": [
    {
     "name": "stdout",
     "output_type": "stream",
     "text": [
      " =================== start ====================\n",
      "Epoch 1: accuracy -> 0.886800\n",
      "Epoch 2: accuracy -> 0.934683\n",
      "Epoch 3: accuracy -> 0.947883\n",
      "Epoch 4: accuracy -> 0.956350\n",
      "Epoch 5: accuracy -> 0.962000\n",
      "Epoch 6: accuracy -> 0.966467\n",
      "Epoch 7: accuracy -> 0.970217\n",
      "Epoch 8: accuracy -> 0.973017\n",
      "Epoch 9: accuracy -> 0.975133\n",
      "Epoch 10: accuracy -> 0.977600\n",
      "Epoch 11: accuracy -> 0.979400\n",
      "Epoch 12: accuracy -> 0.981083\n",
      "Epoch 13: accuracy -> 0.982467\n",
      "Epoch 14: accuracy -> 0.983617\n",
      "Epoch 15: accuracy -> 0.984867\n",
      "Epoch 16: accuracy -> 0.986167\n",
      "Epoch 17: accuracy -> 0.987117\n",
      "Epoch 18: accuracy -> 0.988083\n",
      "Epoch 19: accuracy -> 0.989067\n",
      "Epoch 20: accuracy -> 0.989667\n",
      "Epoch 21: accuracy -> 0.990200\n",
      "Epoch 22: accuracy -> 0.990817\n",
      "Epoch 23: accuracy -> 0.991450\n",
      "Epoch 24: accuracy -> 0.992083\n",
      "Epoch 25: accuracy -> 0.992700\n",
      "Epoch 26: accuracy -> 0.993300\n",
      "Epoch 27: accuracy -> 0.993833\n",
      "Epoch 28: accuracy -> 0.994267\n",
      "Epoch 29: accuracy -> 0.994850\n",
      "Epoch 30: accuracy -> 0.995217\n",
      "time taken to train: 31.541993900002126\n",
      "test accuracy: 0.9755\n",
      " ================== end ==================\n"
     ]
    }
   ],
   "source": [
    "batch_size = 100\n",
    "neural_net = NeuralNetwork([\n",
    "    Layer(784, batch_size, batch_size, ReLU),\n",
    "    Output(batch_size, 10, batch_size, CategoricalCrossEntropyWithSoftmax)\n",
    "], \n",
    "mnist_train_data, mnist_train_labels, 0.03, reg_type='l2', batch_size=batch_size, lmbda=3)\n",
    "\n",
    "start = time.perf_counter()\n",
    "\n",
    "print(' =================== start ====================')\n",
    "\n",
    "neural_net.learn(30)\n",
    "\n",
    "print(f'time taken to train: {time.perf_counter() - start}')\n",
    "\n",
    "print(f'test accuracy: {neural_net.predict(mnist_test_data, mnist_test_labels)[1]}')\n",
    "\n",
    "print(' ================== end ==================')"
   ]
  },
  {
   "cell_type": "code",
   "execution_count": 6,
   "metadata": {},
   "outputs": [
    {
     "name": "stdout",
     "output_type": "stream",
     "text": [
      " =================== start ====================\n",
      "Epoch 1: accuracy -> 0.765417\n",
      "Epoch 2: accuracy -> 0.830467\n",
      "Epoch 3: accuracy -> 0.844700\n",
      "Epoch 4: accuracy -> 0.853117\n",
      "Epoch 5: accuracy -> 0.859950\n",
      "Epoch 6: accuracy -> 0.864617\n",
      "Epoch 7: accuracy -> 0.868050\n",
      "Epoch 8: accuracy -> 0.871683\n",
      "Epoch 9: accuracy -> 0.874267\n",
      "Epoch 10: accuracy -> 0.876967\n",
      "Epoch 11: accuracy -> 0.879367\n",
      "Epoch 12: accuracy -> 0.881617\n",
      "Epoch 13: accuracy -> 0.883783\n",
      "Epoch 14: accuracy -> 0.885417\n",
      "Epoch 15: accuracy -> 0.887583\n",
      "time taken to train: 17.21270469999945\n",
      "test accuracy: 0.8669\n",
      " ================== end ==================\n"
     ]
    }
   ],
   "source": [
    "batch_size = 100\n",
    "neural_net = NeuralNetwork([\n",
    "    Layer(784, batch_size, batch_size, ReLU),\n",
    "    Output(batch_size, 10, batch_size, CategoricalCrossEntropyWithSoftmax)\n",
    "], \n",
    "fashion_mnist_train_data, fashion_mnist_train_labels, 0.01, reg_type='l2', batch_size=batch_size, lmbda=7)\n",
    "\n",
    "start = time.perf_counter()\n",
    "\n",
    "print(' =================== start ====================')\n",
    "\n",
    "neural_net.learn(15)\n",
    "\n",
    "print(f'time taken to train: {time.perf_counter() - start}')\n",
    "\n",
    "print(f'test accuracy: {neural_net.predict(fashion_mnist_test_data, fashion_mnist_test_labels)[1]}')\n",
    "\n",
    "print(' ================== end ==================')"
   ]
  },
  {
   "cell_type": "code",
   "execution_count": 7,
   "metadata": {},
   "outputs": [
    {
     "name": "stdout",
     "output_type": "stream",
     "text": [
      "Epoch 1/10\n",
      "600/600 [==============================] - 4s 6ms/step - loss: 0.4309 - categorical_accuracy: 0.8425\n",
      "Epoch 2/10\n",
      "600/600 [==============================] - 4s 7ms/step - loss: 0.3216 - categorical_accuracy: 0.8813\n",
      "Epoch 3/10\n",
      "600/600 [==============================] - 3s 6ms/step - loss: 0.2836 - categorical_accuracy: 0.8937\n",
      "Epoch 4/10\n",
      "600/600 [==============================] - 3s 6ms/step - loss: 0.2584 - categorical_accuracy: 0.9036\n",
      "Epoch 5/10\n",
      "600/600 [==============================] - 3s 6ms/step - loss: 0.2381 - categorical_accuracy: 0.9109\n",
      "Epoch 6/10\n",
      "600/600 [==============================] - 3s 6ms/step - loss: 0.2205 - categorical_accuracy: 0.9170\n",
      "Epoch 7/10\n",
      "600/600 [==============================] - 3s 6ms/step - loss: 0.2045 - categorical_accuracy: 0.9236\n",
      "Epoch 8/10\n",
      "600/600 [==============================] - 4s 6ms/step - loss: 0.1918 - categorical_accuracy: 0.9275\n",
      "Epoch 9/10\n",
      "600/600 [==============================] - 3s 6ms/step - loss: 0.1799 - categorical_accuracy: 0.9321\n",
      "Epoch 10/10\n",
      "600/600 [==============================] - 3s 6ms/step - loss: 0.1699 - categorical_accuracy: 0.9353\n",
      "313/313 [==============================] - 1s 2ms/step - loss: 0.3676 - categorical_accuracy: 0.8862\n"
     ]
    },
    {
     "data": {
      "text/plain": [
       "[0.3675639033317566, 0.8862000107765198]"
      ]
     },
     "execution_count": 7,
     "metadata": {},
     "output_type": "execute_result"
    }
   ],
   "source": [
    "model = tf.keras.models.Sequential([\n",
    "    tf.keras.layers.Dense(784, activation='relu'),\n",
    "    tf.keras.layers.Dense(100, activation='relu'),\n",
    "    tf.keras.layers.Dense(10, activation='softmax'),\n",
    "])\n",
    "\n",
    "model.compile(\n",
    "    tf.keras.optimizers.Adam(), \n",
    "    tf.keras.losses.CategoricalCrossentropy(),\n",
    "    tf.keras.metrics.CategoricalAccuracy()\n",
    ")\n",
    "\n",
    "model.fit(fashion_mnist_train_data.T, fashion_mnist_train_labels.T, batch_size=100, epochs=10)\n",
    "\n",
    "model.evaluate(fashion_mnist_test_data.T, fashion_mnist_test_labels.T)"
   ]
  }
 ],
 "metadata": {
  "kernelspec": {
   "display_name": "Python 3.10.6 64-bit",
   "language": "python",
   "name": "python3"
  },
  "language_info": {
   "codemirror_mode": {
    "name": "ipython",
    "version": 3
   },
   "file_extension": ".py",
   "mimetype": "text/x-python",
   "name": "python",
   "nbconvert_exporter": "python",
   "pygments_lexer": "ipython3",
   "version": "3.10.6"
  },
  "orig_nbformat": 4,
  "vscode": {
   "interpreter": {
    "hash": "3f1592e5e6cad7894201f0436540e485c2c6461729f88ef13a7f36ffa1d8162d"
   }
  }
 },
 "nbformat": 4,
 "nbformat_minor": 2
}
