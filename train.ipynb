{
 "cells": [
  {
   "cell_type": "code",
   "execution_count": 1,
   "metadata": {},
   "outputs": [],
   "source": [
    "import time\n",
    "import pandas as pd\n",
    "from sklearn.preprocessing import StandardScaler\n",
    "import tensorflow as tf\n",
    "import matplotlib.pyplot as plt\n",
    "\n",
    "from NeuralNetwork import NeuralNetwork\n",
    "from Layer import Layer\n",
    "from loss_functions import *\n",
    "from activation_functions import *"
   ]
  },
  {
   "cell_type": "code",
   "execution_count": 65,
   "metadata": {},
   "outputs": [],
   "source": [
    "def reshape(arr):\n",
    "    return arr.reshape(arr.shape[0], -1)\n",
    "scaler = StandardScaler()"
   ]
  },
  {
   "cell_type": "code",
   "execution_count": 68,
   "metadata": {},
   "outputs": [],
   "source": [
    "mnist = tf.keras.datasets.mnist\n",
    "(mnist_train_data, mnist_train_labels), (mnist_test_data, mnist_test_labels) = mnist.load_data()\n",
    "\n",
    "mnist_train_data, mnist_test_data = reshape(mnist_train_data).T, reshape(mnist_test_data).T\n",
    "\n",
    "mnist_train_labels = pd.get_dummies(mnist_train_labels).to_numpy().T\n",
    "mnist_test_labels = pd.get_dummies(mnist_test_labels).to_numpy().T\n",
    "\n",
    "mnist_train_data, mnist_test_data = scaler.fit_transform(mnist_train_data), scaler.fit_transform(mnist_test_data)"
   ]
  },
  {
   "cell_type": "code",
   "execution_count": 69,
   "metadata": {},
   "outputs": [],
   "source": [
    "fashion_mnist = tf.keras.datasets.fashion_mnist\n",
    "(fashion_mnist_train_data, fashion_mnist_train_labels), (fashion_mnist_test_data, fashion_mnist_test_labels) = fashion_mnist.load_data()\n",
    "\n",
    "class_names = [\"T-shirt/top\", \"Trouser\", \"Pullover\", \"Dress\", \"Coat\", \"Sandal\", \"Shirt\", \"Sneaker\", \"Bag\", \"Ankle boot\"]\n",
    "\n",
    "fashion_mnist_train_data, fashion_mnist_test_data = reshape(fashion_mnist_train_data).T, reshape(fashion_mnist_test_data).T\n",
    "\n",
    "fashion_mnist_train_labels = pd.get_dummies(fashion_mnist_train_labels).to_numpy().T\n",
    "fashion_mnist_test_labels = pd.get_dummies(fashion_mnist_test_labels).to_numpy().T\n",
    "\n",
    "fashion_mnist_train_data, fashion_mnist_test_data = scaler.fit_transform(fashion_mnist_train_data), scaler.fit_transform(fashion_mnist_test_data)"
   ]
  },
  {
   "cell_type": "code",
   "execution_count": 114,
   "metadata": {},
   "outputs": [
    {
     "name": "stdout",
     "output_type": "stream",
     "text": [
      " =================== start ====================\n",
      "Epoch 1: accuracy -> 0.888633\n",
      "Epoch 2: accuracy -> 0.937150\n",
      "Epoch 3: accuracy -> 0.950167\n",
      "Epoch 4: accuracy -> 0.957933\n",
      "Epoch 5: accuracy -> 0.964033\n",
      "Epoch 6: accuracy -> 0.968317\n",
      "Epoch 7: accuracy -> 0.971917\n",
      "Epoch 8: accuracy -> 0.974717\n",
      "Epoch 9: accuracy -> 0.976733\n",
      "Epoch 10: accuracy -> 0.978433\n",
      "Epoch 11: accuracy -> 0.980017\n",
      "Epoch 12: accuracy -> 0.981233\n",
      "Epoch 13: accuracy -> 0.982417\n",
      "Epoch 14: accuracy -> 0.983567\n",
      "Epoch 15: accuracy -> 0.984767\n",
      "time taken to train: 24.43996449979022\n",
      "test accuracy: 0.9754\n",
      " ================== end ==================\n"
     ]
    }
   ],
   "source": [
    "batch_size = 100\n",
    "neural_net = NeuralNetwork([\n",
    "    Layer(784, batch_size, batch_size, ReLU),\n",
    "    Layer(batch_size, 10, batch_size, CategoricalCrossEntropyWithSoftmax)\n",
    "], \n",
    "mnist_train_data, mnist_train_labels, 0.03, reg_type='l2', batch_size=batch_size, lmbda=3)\n",
    "\n",
    "start = time.perf_counter()\n",
    "\n",
    "print(' =================== start ====================')\n",
    "\n",
    "neural_net.learn(15)\n",
    "\n",
    "print(f'time taken to train: {time.perf_counter() - start}')\n",
    "\n",
    "print(f'test accuracy: {neural_net.predict(mnist_test_data, mnist_test_labels)[1]}')\n",
    "\n",
    "print(' ================== end ==================')"
   ]
  },
  {
   "cell_type": "code",
   "execution_count": 122,
   "metadata": {},
   "outputs": [
    {
     "name": "stdout",
     "output_type": "stream",
     "text": [
      " =================== start ====================\n",
      "Epoch 1: accuracy -> 0.769667\n",
      "Epoch 2: accuracy -> 0.829133\n",
      "Epoch 3: accuracy -> 0.842683\n",
      "Epoch 4: accuracy -> 0.851650\n",
      "Epoch 5: accuracy -> 0.857783\n",
      "Epoch 6: accuracy -> 0.862900\n",
      "Epoch 7: accuracy -> 0.866617\n",
      "Epoch 8: accuracy -> 0.870133\n",
      "Epoch 9: accuracy -> 0.872833\n",
      "Epoch 10: accuracy -> 0.875283\n",
      "Epoch 11: accuracy -> 0.877717\n",
      "Epoch 12: accuracy -> 0.879733\n",
      "Epoch 13: accuracy -> 0.881600\n",
      "Epoch 14: accuracy -> 0.883600\n",
      "Epoch 15: accuracy -> 0.885367\n",
      "Epoch 16: accuracy -> 0.887117\n",
      "Epoch 17: accuracy -> 0.888450\n",
      "Epoch 18: accuracy -> 0.890250\n",
      "Epoch 19: accuracy -> 0.891683\n",
      "Epoch 20: accuracy -> 0.893300\n",
      "Epoch 21: accuracy -> 0.894517\n",
      "Epoch 22: accuracy -> 0.895733\n",
      "Epoch 23: accuracy -> 0.896683\n",
      "Epoch 24: accuracy -> 0.898250\n",
      "Epoch 25: accuracy -> 0.899317\n",
      "Epoch 26: accuracy -> 0.900400\n",
      "Epoch 27: accuracy -> 0.901267\n",
      "Epoch 28: accuracy -> 0.902300\n",
      "Epoch 29: accuracy -> 0.903183\n",
      "Epoch 30: accuracy -> 0.904133\n",
      "Epoch 31: accuracy -> 0.905117\n",
      "Epoch 32: accuracy -> 0.905833\n",
      "Epoch 33: accuracy -> 0.906917\n",
      "Epoch 34: accuracy -> 0.907883\n",
      "Epoch 35: accuracy -> 0.908600\n",
      "Epoch 36: accuracy -> 0.909417\n",
      "Epoch 37: accuracy -> 0.910250\n",
      "Epoch 38: accuracy -> 0.911050\n",
      "Epoch 39: accuracy -> 0.911983\n",
      "Epoch 40: accuracy -> 0.912767\n",
      "Epoch 41: accuracy -> 0.913433\n",
      "Epoch 42: accuracy -> 0.914317\n",
      "Epoch 43: accuracy -> 0.914767\n",
      "Epoch 44: accuracy -> 0.915367\n",
      "Epoch 45: accuracy -> 0.915867\n",
      "Epoch 46: accuracy -> 0.916317\n",
      "Epoch 47: accuracy -> 0.916900\n",
      "Epoch 48: accuracy -> 0.917400\n",
      "Epoch 49: accuracy -> 0.917983\n",
      "Epoch 50: accuracy -> 0.918550\n",
      "Epoch 51: accuracy -> 0.918950\n",
      "Epoch 52: accuracy -> 0.919483\n",
      "Epoch 53: accuracy -> 0.919983\n",
      "Epoch 54: accuracy -> 0.920550\n",
      "Epoch 55: accuracy -> 0.921217\n",
      "Epoch 56: accuracy -> 0.921733\n",
      "Epoch 57: accuracy -> 0.922167\n",
      "Epoch 58: accuracy -> 0.922833\n",
      "Epoch 59: accuracy -> 0.923117\n",
      "Epoch 60: accuracy -> 0.923450\n",
      "time taken to train: 80.57426639972255\n",
      "test accuracy: 0.8818\n",
      " ================== end ==================\n"
     ]
    }
   ],
   "source": [
    "batch_size = 100\n",
    "neural_net = NeuralNetwork([\n",
    "    Layer(784, batch_size, batch_size, ReLU),\n",
    "    Layer(batch_size, 10, batch_size, CategoricalCrossEntropyWithSoftmax)\n",
    "], \n",
    "fashion_mnist_train_data, fashion_mnist_train_labels, 0.01, reg_type='l2', batch_size=batch_size, lmbda=7)\n",
    "\n",
    "start = time.perf_counter()\n",
    "\n",
    "print(' =================== start ====================')\n",
    "\n",
    "neural_net.learn(60)\n",
    "\n",
    "print(f'time taken to train: {time.perf_counter() - start}')\n",
    "\n",
    "print(f'test accuracy: {neural_net.predict(fashion_mnist_test_data, fashion_mnist_test_labels)[1]}')\n",
    "\n",
    "print(' ================== end ==================')"
   ]
  }
 ],
 "metadata": {
  "kernelspec": {
   "display_name": "Python 3.10.6 64-bit",
   "language": "python",
   "name": "python3"
  },
  "language_info": {
   "codemirror_mode": {
    "name": "ipython",
    "version": 3
   },
   "file_extension": ".py",
   "mimetype": "text/x-python",
   "name": "python",
   "nbconvert_exporter": "python",
   "pygments_lexer": "ipython3",
   "version": "3.10.6"
  },
  "orig_nbformat": 4,
  "vscode": {
   "interpreter": {
    "hash": "3f1592e5e6cad7894201f0436540e485c2c6461729f88ef13a7f36ffa1d8162d"
   }
  }
 },
 "nbformat": 4,
 "nbformat_minor": 2
}
