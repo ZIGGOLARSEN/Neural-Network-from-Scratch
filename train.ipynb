{
 "cells": [
  {
   "cell_type": "code",
   "execution_count": 1,
   "metadata": {},
   "outputs": [],
   "source": [
    "import time\n",
    "\n",
    "import matplotlib.pyplot as plt\n",
    "import pandas as pd\n",
    "import tensorflow as tf\n",
    "from sklearn.preprocessing import StandardScaler\n",
    "\n",
    "from activation_functions import *\n",
    "from Layer import *\n",
    "from loss_functions import *\n",
    "from NeuralNetwork import NeuralNetwork"
   ]
  },
  {
   "cell_type": "code",
   "execution_count": 2,
   "metadata": {},
   "outputs": [],
   "source": [
    "def reshape(arr):\n",
    "    return arr.reshape(arr.shape[0], -1)\n",
    "\n",
    "scaler = StandardScaler()"
   ]
  },
  {
   "cell_type": "code",
   "execution_count": 3,
   "metadata": {},
   "outputs": [],
   "source": [
    "mnist = tf.keras.datasets.mnist\n",
    "(mnist_train_data, mnist_train_labels), (mnist_test_data, mnist_test_labels) = mnist.load_data()\n",
    "\n",
    "mnist_train_data, mnist_test_data = reshape(mnist_train_data).T, reshape(mnist_test_data).T\n",
    "\n",
    "mnist_train_labels = pd.get_dummies(mnist_train_labels).to_numpy().T\n",
    "mnist_test_labels = pd.get_dummies(mnist_test_labels).to_numpy().T\n",
    "\n",
    "mnist_train_data, mnist_test_data = scaler.fit_transform(mnist_train_data), scaler.fit_transform(mnist_test_data)"
   ]
  },
  {
   "cell_type": "code",
   "execution_count": 4,
   "metadata": {},
   "outputs": [],
   "source": [
    "fashion_mnist = tf.keras.datasets.fashion_mnist\n",
    "(fashion_mnist_train_data, fashion_mnist_train_labels), (fashion_mnist_test_data, fashion_mnist_test_labels) = fashion_mnist.load_data()\n",
    "\n",
    "class_names = [\"T-shirt/top\", \"Trouser\", \"Pullover\", \"Dress\", \"Coat\", \"Sandal\", \"Shirt\", \"Sneaker\", \"Bag\", \"Ankle boot\"]\n",
    "\n",
    "fashion_mnist_train_data, fashion_mnist_test_data = reshape(fashion_mnist_train_data).T, reshape(fashion_mnist_test_data).T\n",
    "\n",
    "fashion_mnist_train_labels = pd.get_dummies(fashion_mnist_train_labels).to_numpy().T\n",
    "fashion_mnist_test_labels = pd.get_dummies(fashion_mnist_test_labels).to_numpy().T\n",
    "\n",
    "fashion_mnist_train_data, fashion_mnist_test_data = scaler.fit_transform(fashion_mnist_train_data), scaler.fit_transform(fashion_mnist_test_data)"
   ]
  },
  {
   "cell_type": "code",
   "execution_count": 8,
   "metadata": {},
   "outputs": [
    {
     "name": "stdout",
     "output_type": "stream",
     "text": [
      " =================== start ====================\n",
      "Epoch 1: loss -> 0.389160;  accuracy -> 0.888550\n",
      "Epoch 2: loss -> 0.223471;  accuracy -> 0.935600\n",
      "Epoch 3: loss -> 0.177592;  accuracy -> 0.948867\n",
      "Epoch 4: loss -> 0.149077;  accuracy -> 0.956650\n",
      "Epoch 5: loss -> 0.128911;  accuracy -> 0.962183\n",
      "Epoch 6: loss -> 0.113635;  accuracy -> 0.966900\n",
      "Epoch 7: loss -> 0.101626;  accuracy -> 0.970950\n",
      "Epoch 8: loss -> 0.091922;  accuracy -> 0.974050\n",
      "Epoch 9: loss -> 0.083896;  accuracy -> 0.976650\n",
      "Epoch 10: loss -> 0.077161;  accuracy -> 0.978217\n",
      "Epoch 11: loss -> 0.071425;  accuracy -> 0.979867\n",
      "Epoch 12: loss -> 0.066444;  accuracy -> 0.981483\n",
      "Epoch 13: loss -> 0.062023;  accuracy -> 0.982900\n",
      "Epoch 14: loss -> 0.058094;  accuracy -> 0.984150\n",
      "Epoch 15: loss -> 0.054552;  accuracy -> 0.985233\n",
      "time taken to train: 25.29583299999649\n",
      "test accuracy: 0.9733\n",
      " ================== end ==================\n"
     ]
    }
   ],
   "source": [
    "batch_size = 100\n",
    "neural_net = NeuralNetwork([\n",
    "    Layer(784, batch_size, batch_size, ReLU),\n",
    "    Output(batch_size, 10, batch_size, CategoricalCrossEntropyWithSoftmax)\n",
    "], \n",
    "mnist_train_data, mnist_train_labels, 0.03, reg_type='l2', batch_size=batch_size, lmbda=3)\n",
    "\n",
    "start = time.perf_counter()\n",
    "\n",
    "print(' =================== start ====================')\n",
    "\n",
    "neural_net.learn(15)\n",
    "\n",
    "print(f'time taken to train: {time.perf_counter() - start}')\n",
    "\n",
    "print(f'test accuracy: {neural_net.predict(mnist_test_data, mnist_test_labels)[1]}')\n",
    "\n",
    "print(' ================== end ==================')"
   ]
  },
  {
   "cell_type": "code",
   "execution_count": null,
   "metadata": {},
   "outputs": [],
   "source": [
    "batch_size = 100\n",
    "neural_net = NeuralNetwork([\n",
    "    Layer(784, batch_size, batch_size, ReLU),\n",
    "    Output(batch_size, 10, batch_size, CategoricalCrossEntropyWithSoftmax)\n",
    "], \n",
    "fashion_mnist_train_data, fashion_mnist_train_labels, 0.01, reg_type='l2', batch_size=batch_size, lmbda=7)\n",
    "\n",
    "start = time.perf_counter()\n",
    "\n",
    "print(' =================== start ====================')\n",
    "\n",
    "neural_net.learn(15)\n",
    "\n",
    "print(f'time taken to train: {time.perf_counter() - start}')\n",
    "\n",
    "print(f'test accuracy: {neural_net.predict(fashion_mnist_test_data, fashion_mnist_test_labels)[1]}')\n",
    "\n",
    "print(' ================== end ==================')"
   ]
  }
 ],
 "metadata": {
  "kernelspec": {
   "display_name": "Python 3.10.6 64-bit",
   "language": "python",
   "name": "python3"
  },
  "language_info": {
   "codemirror_mode": {
    "name": "ipython",
    "version": 3
   },
   "file_extension": ".py",
   "mimetype": "text/x-python",
   "name": "python",
   "nbconvert_exporter": "python",
   "pygments_lexer": "ipython3",
   "version": "3.10.6"
  },
  "orig_nbformat": 4,
  "vscode": {
   "interpreter": {
    "hash": "3f1592e5e6cad7894201f0436540e485c2c6461729f88ef13a7f36ffa1d8162d"
   }
  }
 },
 "nbformat": 4,
 "nbformat_minor": 2
}
