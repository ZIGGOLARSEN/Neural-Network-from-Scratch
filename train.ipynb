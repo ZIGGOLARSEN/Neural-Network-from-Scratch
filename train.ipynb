{
 "cells": [
  {
   "cell_type": "code",
   "execution_count": 1,
   "metadata": {},
   "outputs": [],
   "source": [
    "import time\n",
    "\n",
    "import numpy as np\n",
    "import tensorflow as tf\n",
    "import pandas as pd\n",
    "import matplotlib.pyplot as plt\n",
    "from sklearn.preprocessing import StandardScaler\n",
    "\n",
    "from activation_functions import *\n",
    "from Layer import *\n",
    "from loss_functions import *\n",
    "from NeuralNetwork import NeuralNetwork"
   ]
  },
  {
   "cell_type": "code",
   "execution_count": 2,
   "metadata": {},
   "outputs": [],
   "source": [
    "def reshape(arr):\n",
    "    return arr.reshape(arr.shape[0],-1)\n",
    "\n",
    "scaler = StandardScaler()"
   ]
  },
  {
   "cell_type": "code",
   "execution_count": 3,
   "metadata": {},
   "outputs": [],
   "source": [
    "mnist = tf.keras.datasets.mnist\n",
    "(mnist_train_data, mnist_train_labels), (mnist_test_data, mnist_test_labels) = mnist.load_data()\n",
    "\n",
    "mnist_train_data, mnist_test_data = reshape(mnist_train_data).T, reshape(mnist_test_data).T\n",
    "\n",
    "mnist_train_labels = pd.get_dummies(mnist_train_labels).to_numpy().T\n",
    "mnist_test_labels = pd.get_dummies(mnist_test_labels).to_numpy().T\n",
    "\n",
    "mnist_train_data, mnist_test_data = scaler.fit_transform(mnist_train_data), scaler.fit_transform(mnist_test_data)"
   ]
  },
  {
   "cell_type": "code",
   "execution_count": 4,
   "metadata": {},
   "outputs": [],
   "source": [
    "fashion_mnist = tf.keras.datasets.fashion_mnist\n",
    "(fashion_mnist_train_data, fashion_mnist_train_labels), (fashion_mnist_test_data, fashion_mnist_test_labels) = fashion_mnist.load_data()\n",
    "\n",
    "class_names = [\"T-shirt/top\", \"Trouser\", \"Pullover\", \"Dress\", \"Coat\", \"Sandal\", \"Shirt\", \"Sneaker\", \"Bag\", \"Ankle boot\"]\n",
    "\n",
    "fashion_mnist_train_data, fashion_mnist_test_data = reshape(fashion_mnist_train_data).T, reshape(fashion_mnist_test_data).T\n",
    "\n",
    "fashion_mnist_train_labels = pd.get_dummies(fashion_mnist_train_labels).to_numpy().T\n",
    "fashion_mnist_test_labels = pd.get_dummies(fashion_mnist_test_labels).to_numpy().T\n",
    "\n",
    "fashion_mnist_train_data, fashion_mnist_test_data = scaler.fit_transform(fashion_mnist_train_data), scaler.fit_transform(fashion_mnist_test_data)"
   ]
  },
  {
   "cell_type": "code",
   "execution_count": 11,
   "metadata": {},
   "outputs": [
    {
     "name": "stdout",
     "output_type": "stream",
     "text": [
      " =================== start ====================\n",
      "600 (784, 100)\n",
      "Epoch 1: loss -> 0.386981;  accuracy -> 0.889483\n",
      "Epoch 2: loss -> 0.208290;  accuracy -> 0.940017\n",
      "Epoch 3: loss -> 0.164040;  accuracy -> 0.953150\n",
      "Epoch 4: loss -> 0.137653;  accuracy -> 0.960833\n",
      "Epoch 5: loss -> 0.119379;  accuracy -> 0.966250\n",
      "Epoch 6: loss -> 0.105739;  accuracy -> 0.970233\n",
      "Epoch 7: loss -> 0.095047;  accuracy -> 0.973500\n",
      "Epoch 8: loss -> 0.086378;  accuracy -> 0.975933\n",
      "Epoch 9: loss -> 0.079111;  accuracy -> 0.977883\n",
      "Epoch 10: loss -> 0.072902;  accuracy -> 0.979617\n",
      "Epoch 11: loss -> 0.067507;  accuracy -> 0.981083\n",
      "Epoch 12: loss -> 0.062752;  accuracy -> 0.982417\n",
      "Epoch 13: loss -> 0.058532;  accuracy -> 0.983650\n",
      "Epoch 14: loss -> 0.054772;  accuracy -> 0.984683\n",
      "Epoch 15: loss -> 0.051359;  accuracy -> 0.986000\n",
      "Epoch 16: loss -> 0.048276;  accuracy -> 0.987183\n",
      "Epoch 17: loss -> 0.045450;  accuracy -> 0.988183\n",
      "Epoch 18: loss -> 0.042874;  accuracy -> 0.989017\n",
      "Epoch 19: loss -> 0.040512;  accuracy -> 0.989783\n",
      "Epoch 20: loss -> 0.038330;  accuracy -> 0.990467\n",
      "Epoch 21: loss -> 0.036302;  accuracy -> 0.991217\n",
      "Epoch 22: loss -> 0.034409;  accuracy -> 0.991900\n",
      "Epoch 23: loss -> 0.032649;  accuracy -> 0.992650\n",
      "Epoch 24: loss -> 0.030995;  accuracy -> 0.993300\n",
      "Epoch 25: loss -> 0.029452;  accuracy -> 0.993667\n",
      "Epoch 26: loss -> 0.028006;  accuracy -> 0.994167\n",
      "Epoch 27: loss -> 0.026649;  accuracy -> 0.994583\n",
      "Epoch 28: loss -> 0.025364;  accuracy -> 0.995050\n",
      "Epoch 29: loss -> 0.024153;  accuracy -> 0.995400\n",
      "Epoch 30: loss -> 0.023009;  accuracy -> 0.995583\n",
      "time taken to train: 52.65313220000826\n",
      "test accuracy: 0.9767\n",
      " ================== end ==================\n"
     ]
    }
   ],
   "source": [
    "batch_size = 100\n",
    "neural_net = NeuralNetwork([\n",
    "    Layer(784, batch_size, batch_size, ReLU, 'l2', 7/len(mnist_train_data.T)),\n",
    "    Output(batch_size, 10, batch_size, CategoricalCrossEntropyWithSoftmax, 'l2', 3/len(mnist_train_data.T))\n",
    "], \n",
    "0.03, batch_size=batch_size)\n",
    "\n",
    "start = time.perf_counter()\n",
    "\n",
    "print(' =================== start ====================')\n",
    "neural_net.fit(mnist_train_data, mnist_train_labels, epochs=30, shuffle=True)\n",
    "\n",
    "# neural_net.learn(15)\n",
    "\n",
    "print(f'time taken to train: {time.perf_counter() - start}')\n",
    "\n",
    "print(f'test accuracy: {neural_net.predict(mnist_test_data, mnist_test_labels)[1]}')\n",
    "\n",
    "print(' ================== end ==================')"
   ]
  },
  {
   "cell_type": "code",
   "execution_count": 6,
   "metadata": {},
   "outputs": [
    {
     "ename": "TypeError",
     "evalue": "Layer.__init__() missing 1 required positional argument: 'reg_type'",
     "output_type": "error",
     "traceback": [
      "\u001b[1;31m---------------------------------------------------------------------------\u001b[0m",
      "\u001b[1;31mTypeError\u001b[0m                                 Traceback (most recent call last)",
      "\u001b[1;32mc:\\Users\\Maka Jukhvashvili\\Desktop\\Python\\Python code\\Python Projects\\Neural Network from Scratch\\train.ipynb Cell 6\u001b[0m in \u001b[0;36m<cell line: 2>\u001b[1;34m()\u001b[0m\n\u001b[0;32m      <a href='vscode-notebook-cell:/c%3A/Users/Maka%20Jukhvashvili/Desktop/Python/Python%20code/Python%20Projects/Neural%20Network%20from%20Scratch/train.ipynb#W5sZmlsZQ%3D%3D?line=0'>1</a>\u001b[0m batch_size \u001b[39m=\u001b[39m \u001b[39m100\u001b[39m\n\u001b[0;32m      <a href='vscode-notebook-cell:/c%3A/Users/Maka%20Jukhvashvili/Desktop/Python/Python%20code/Python%20Projects/Neural%20Network%20from%20Scratch/train.ipynb#W5sZmlsZQ%3D%3D?line=1'>2</a>\u001b[0m neural_net \u001b[39m=\u001b[39m NeuralNetwork([\n\u001b[1;32m----> <a href='vscode-notebook-cell:/c%3A/Users/Maka%20Jukhvashvili/Desktop/Python/Python%20code/Python%20Projects/Neural%20Network%20from%20Scratch/train.ipynb#W5sZmlsZQ%3D%3D?line=2'>3</a>\u001b[0m     Layer(\u001b[39m784\u001b[39;49m, batch_size, batch_size, ReLU),\n\u001b[0;32m      <a href='vscode-notebook-cell:/c%3A/Users/Maka%20Jukhvashvili/Desktop/Python/Python%20code/Python%20Projects/Neural%20Network%20from%20Scratch/train.ipynb#W5sZmlsZQ%3D%3D?line=3'>4</a>\u001b[0m     Output(batch_size, \u001b[39m10\u001b[39m, batch_size, CategoricalCrossEntropyWithSoftmax)\n\u001b[0;32m      <a href='vscode-notebook-cell:/c%3A/Users/Maka%20Jukhvashvili/Desktop/Python/Python%20code/Python%20Projects/Neural%20Network%20from%20Scratch/train.ipynb#W5sZmlsZQ%3D%3D?line=4'>5</a>\u001b[0m ], \n\u001b[0;32m      <a href='vscode-notebook-cell:/c%3A/Users/Maka%20Jukhvashvili/Desktop/Python/Python%20code/Python%20Projects/Neural%20Network%20from%20Scratch/train.ipynb#W5sZmlsZQ%3D%3D?line=5'>6</a>\u001b[0m fashion_mnist_train_data, fashion_mnist_train_labels, \u001b[39m0.01\u001b[39m, reg_type\u001b[39m=\u001b[39m\u001b[39m'\u001b[39m\u001b[39ml2\u001b[39m\u001b[39m'\u001b[39m, batch_size\u001b[39m=\u001b[39mbatch_size, lmbda\u001b[39m=\u001b[39m\u001b[39m7\u001b[39m)\n\u001b[0;32m      <a href='vscode-notebook-cell:/c%3A/Users/Maka%20Jukhvashvili/Desktop/Python/Python%20code/Python%20Projects/Neural%20Network%20from%20Scratch/train.ipynb#W5sZmlsZQ%3D%3D?line=7'>8</a>\u001b[0m start \u001b[39m=\u001b[39m time\u001b[39m.\u001b[39mperf_counter()\n\u001b[0;32m     <a href='vscode-notebook-cell:/c%3A/Users/Maka%20Jukhvashvili/Desktop/Python/Python%20code/Python%20Projects/Neural%20Network%20from%20Scratch/train.ipynb#W5sZmlsZQ%3D%3D?line=9'>10</a>\u001b[0m \u001b[39mprint\u001b[39m(\u001b[39m'\u001b[39m\u001b[39m =================== start ====================\u001b[39m\u001b[39m'\u001b[39m)\n",
      "\u001b[1;31mTypeError\u001b[0m: Layer.__init__() missing 1 required positional argument: 'reg_type'"
     ]
    }
   ],
   "source": [
    "batch_size = 100\n",
    "neural_net = NeuralNetwork([\n",
    "    Layer(784, batch_size, batch_size, ReLU),\n",
    "    Output(batch_size, 10, batch_size, CategoricalCrossEntropyWithSoftmax)\n",
    "], \n",
    "fashion_mnist_train_data, fashion_mnist_train_labels, 0.01, reg_type='l2', batch_size=batch_size, lmbda=7)\n",
    "\n",
    "start = time.perf_counter()\n",
    "\n",
    "print(' =================== start ====================')\n",
    "\n",
    "neural_net.learn(15)\n",
    "\n",
    "print(f'time taken to train: {time.perf_counter() - start}')\n",
    "\n",
    "print(f'test accuracy: {neural_net.predict(fashion_mnist_test_data, fashion_mnist_test_labels)[1]}')\n",
    "\n",
    "print(' ================== end ==================')"
   ]
  }
 ],
 "metadata": {
  "kernelspec": {
   "display_name": "Python 3.10.6 64-bit",
   "language": "python",
   "name": "python3"
  },
  "language_info": {
   "codemirror_mode": {
    "name": "ipython",
    "version": 3
   },
   "file_extension": ".py",
   "mimetype": "text/x-python",
   "name": "python",
   "nbconvert_exporter": "python",
   "pygments_lexer": "ipython3",
   "version": "3.10.6"
  },
  "orig_nbformat": 4,
  "vscode": {
   "interpreter": {
    "hash": "3f1592e5e6cad7894201f0436540e485c2c6461729f88ef13a7f36ffa1d8162d"
   }
  }
 },
 "nbformat": 4,
 "nbformat_minor": 2
}
